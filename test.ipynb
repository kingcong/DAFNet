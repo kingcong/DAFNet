{
 "cells": [
  {
   "cell_type": "code",
   "execution_count": null,
   "metadata": {},
   "outputs": [],
   "source": [
    "from dataset import *\n",
    "from network import *\n",
    "\n",
    "os.environ['CUDA_VISIBLE_DEVICES'] = '1'\n",
    "gpu_devices = list(np.arange(torch.cuda.device_count()))\n",
    "multi_gpu = len(gpu_devices) > 1\n",
    "\n",
    "output_folder = r'./Outputs/pred/DAFNet/EORSSD/Test'\n",
    "ckpt_folder = r'./Checkpoints'\n",
    "dataset_root = r'../Dataset/EORSSD'"
   ]
  },
  {
   "cell_type": "code",
   "execution_count": null,
   "metadata": {},
   "outputs": [],
   "source": [
    "test_loader = data.DataLoader(EORSSD(dataset_root, 'test', aug=False), shuffle=False, batch_size=1)"
   ]
  },
  {
   "cell_type": "code",
   "execution_count": null,
   "metadata": {},
   "outputs": [],
   "source": [
    "net = DAFNet(return_loss=False, init_path=os.path.join(ckpt_folder, 'warehouse')).eval().cuda()\n",
    "net.load_state_dict(torch.load(os.path.join(ckpt_folder, 'trained', 'trained.pth')))"
   ]
  },
  {
   "cell_type": "code",
   "execution_count": null,
   "metadata": {},
   "outputs": [],
   "source": [
    "import os\n",
    "os.system('rm -rf ./Outputs/pred/DAFNet/EORSSD/Test/*.png')"
   ]
  },
  {
   "cell_type": "code",
   "execution_count": null,
   "metadata": {},
   "outputs": [],
   "source": [
    "infer_time = 0\n",
    "num_test = 0\n",
    "for image, label, edge, prefix in tqdm(test_loader):\n",
    "    num_test += 1\n",
    "    with torch.no_grad():\n",
    "        image, label, edge = image.cuda(), label.cuda(), edge.cuda()\n",
    "        B = image.size(0)\n",
    "        t1 = time.time()\n",
    "        smap, _ = net(image, label, edge)\n",
    "        t2 = time.time()\n",
    "        infer_time += (t2 - t1)\n",
    "        for b in range(B):\n",
    "            path = os.path.join(output_folder, prefix[b] + '.png')\n",
    "            save_smap(smap[b, ...], path)\n",
    "infer_time /= num_test\n",
    "print('average inference speed: {} FPS'.format(int(np.round(1 / infer_time))))"
   ]
  },
  {
   "cell_type": "code",
   "execution_count": null,
   "metadata": {},
   "outputs": [],
   "source": []
  }
 ],
 "metadata": {
  "kernelspec": {
   "display_name": "Python 3",
   "language": "python",
   "name": "python3"
  },
  "language_info": {
   "codemirror_mode": {
    "name": "ipython",
    "version": 3
   },
   "file_extension": ".py",
   "mimetype": "text/x-python",
   "name": "python",
   "nbconvert_exporter": "python",
   "pygments_lexer": "ipython3",
   "version": "3.7.9"
  }
 },
 "nbformat": 4,
 "nbformat_minor": 2
}
