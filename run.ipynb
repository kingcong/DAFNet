{
 "cells": [
  {
   "cell_type": "code",
   "execution_count": null,
   "metadata": {},
   "outputs": [],
   "source": [
    "from dataset import *\n",
    "from network import *\n",
    "\n",
    "\n",
    "os.environ['CUDA_VISIBLE_DEVICES'] = '0, 1'\n",
    "gpu_devices = list(np.arange(torch.cuda.device_count()))\n",
    "multi_gpu = len(gpu_devices) > 1\n",
    "\n",
    "\n",
    "output_folder = r'./Outputs/pred/DAFNet/EORSSD/Test'\n",
    "ckpt_folder = r'./Checkpoints'\n",
    "dataset_root = r'../Dataset/EORSSD'\n",
    "\n",
    "\n",
    "batch_size = 12 * len(gpu_devices)\n",
    "train_set = EORSSD(dataset_root, 'train', aug=True)\n",
    "train_loader = data.DataLoader(train_set, shuffle=True, batch_size=batch_size, num_workers=8, drop_last=True)\n",
    "\n",
    "\n",
    "net = DAFNet(return_loss=True, init_path=os.path.join(ckpt_folder, 'warehouse')).cuda()\n",
    "if multi_gpu:\n",
    "    net = nn.DataParallel(net, gpu_devices)\n",
    "    print('Use {} GPUs'.format(len(gpu_devices)))\n",
    "else:\n",
    "    print('Use a single GPU')\n",
    "\n",
    "    \n",
    "init_lr = 1e-5\n",
    "min_lr = 1e-6\n",
    "train_epoch = 24\n",
    "optimizer = optim.Adam(net.parameters(), lr=init_lr, weight_decay=5e-4)\n",
    "scheduler = optim.lr_scheduler.CosineAnnealingLR(optimizer, T_max=train_epoch, eta_min=min_lr)"
   ]
  },
  {
   "cell_type": "markdown",
   "metadata": {},
   "source": [
    "Training"
   ]
  },
  {
   "cell_type": "code",
   "execution_count": null,
   "metadata": {
    "scrolled": true
   },
   "outputs": [],
   "source": [
    "net.train()\n",
    "for epc in range(1, train_epoch + 1):\n",
    "    records = [0] * 3\n",
    "    N = 0\n",
    "    for image, label, edge, name in tqdm(train_loader):\n",
    "        # prepare input data\n",
    "        image, label, edge = image.cuda(), label.cuda(), edge.cuda()\n",
    "        B = image.size(0)\n",
    "        # forward\n",
    "        optimizer.zero_grad()\n",
    "        M, E, losses_list = net(image, label, edge)\n",
    "        # compute loss\n",
    "        total_loss = losses_list[0].mean()\n",
    "        # record loss\n",
    "        N += B\n",
    "        for i in range(len(records)):\n",
    "            records[i] += losses_list[i].mean().item() * B\n",
    "        # backward\n",
    "        total_loss.backward()\n",
    "        optimizer.step()\n",
    "    # update learning rate\n",
    "    scheduler.step()\n",
    "    # cache model parameters\n",
    "    cache_model(net, os.path.join(ckpt_folder, 'trained', 'trained.pth'), multi_gpu)\n",
    "    # print training information\n",
    "    records = proc_loss(records, N, 4)\n",
    "    print('epoch: {} || total loss: {} || mask loss: {} || edge loss: {}'\n",
    "          .format(epc, records[0], records[1], records[2]))\n",
    "    print('finish training.')"
   ]
  },
  {
   "cell_type": "markdown",
   "metadata": {},
   "source": [
    "evaluate"
   ]
  },
  {
   "cell_type": "code",
   "execution_count": null,
   "metadata": {},
   "outputs": [],
   "source": [
    "import os\n",
    "os.system('rm -rf ./Outputs/pred/DAFNet/EORSSD/Test/*.png')"
   ]
  },
  {
   "cell_type": "code",
   "execution_count": null,
   "metadata": {},
   "outputs": [],
   "source": [
    "test_set = EORSSD(dataset_root, 'test', aug=False)\n",
    "test_loader = data.DataLoader(test_set, shuffle=False, batch_size=1, num_workers=8, drop_last=False)\n",
    "\n",
    "\n",
    "net = DAFNet(return_loss=False, init_path=os.path.join(ckpt_folder, 'warehouse')).eval().cuda()\n",
    "net.load_state_dict(torch.load(os.path.join(ckpt_folder, 'trained', 'trained.pth')))\n",
    "\n",
    "\n",
    "infer_time = 0\n",
    "num_test = 0\n",
    "for image, label, edge, prefix in test_loader:\n",
    "    num_test += 1\n",
    "    with torch.no_grad():\n",
    "        image, label, edge = image.cuda(), label.cuda(), edge.cuda()\n",
    "        B = image.size(0)\n",
    "        t1 = time.time()\n",
    "        smap, _ = net(image, label, edge)\n",
    "        t2 = time.time()\n",
    "        infer_time += (t2 - t1)\n",
    "        for b in range(B):\n",
    "            path = os.path.join(output_folder, prefix[b] + '.png')\n",
    "            save_smap(smap[b, ...], path)\n",
    "print('finish testing.')\n",
    "infer_time /= num_test\n",
    "print('average inference speed: {} FPS'.format(int(np.round(1/infer_time))))"
   ]
  },
  {
   "cell_type": "code",
   "execution_count": null,
   "metadata": {},
   "outputs": [],
   "source": []
  }
 ],
 "metadata": {
  "kernelspec": {
   "display_name": "Python 3",
   "language": "python",
   "name": "python3"
  },
  "language_info": {
   "codemirror_mode": {
    "name": "ipython",
    "version": 3
   },
   "file_extension": ".py",
   "mimetype": "text/x-python",
   "name": "python",
   "nbconvert_exporter": "python",
   "pygments_lexer": "ipython3",
   "version": "3.7.9"
  }
 },
 "nbformat": 4,
 "nbformat_minor": 2
}
